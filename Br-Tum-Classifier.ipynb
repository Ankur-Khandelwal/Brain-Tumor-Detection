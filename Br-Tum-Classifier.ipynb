{
 "cells": [
  {
   "cell_type": "code",
   "execution_count": 25,
   "metadata": {},
   "outputs": [],
   "source": [
    "#importing all te req lib\n",
    "import tensorflow as tf\n",
    "from keras.preprocessing.image import ImageDataGenerator\n",
    "from keras.models import Sequential\n",
    "from keras.layers import Conv2D, MaxPooling2D\n",
    "from keras.layers import Activation, Dropout, Flatten, Dense\n",
    "from keras import backend as K\n",
    "from keras.preprocessing import image\n",
    "import numpy as np"
   ]
  },
  {
   "cell_type": "code",
   "execution_count": 26,
   "metadata": {},
   "outputs": [],
   "source": [
    "# dimensions of our images.\n",
    "img_width, img_height = 150, 150\n",
    "\n",
    "#defining the data directories\n",
    "train_data_dir= 'tumor_detect/train'\n",
    "validation_data_dir= 'tumor_detect/validation'\n",
    "n_training_sample= 100\n",
    "n_validation_sample= 50\n",
    "epochs=40\n",
    "batch_size=10"
   ]
  },
  {
   "cell_type": "code",
   "execution_count": 27,
   "metadata": {},
   "outputs": [],
   "source": [
    "if K.image_data_format() == 'channels_first':\n",
    "    input_shape = (3, img_width, img_height)\n",
    "else:\n",
    "    input_shape = (img_width, img_height, 3)"
   ]
  },
  {
   "cell_type": "code",
   "execution_count": 34,
   "metadata": {},
   "outputs": [],
   "source": [
    "#defining the model\n",
    "model = tf.keras.models.Sequential([tf.keras.layers.Flatten(), \n",
    "                                    tf.keras.layers.Dense(128, activation=tf.nn.relu), \n",
    "                                    tf.keras.layers.Dense(64, activation=tf.nn.relu),\n",
    "                                    tf.keras.layers.Dense(2, activation=tf.nn.sigmoid)])"
   ]
  },
  {
   "cell_type": "code",
   "execution_count": 35,
   "metadata": {},
   "outputs": [],
   "source": [
    "#defining the optimizer and metrics\n",
    "model.compile(optimizer = tf.optimizers.Adam(),\n",
    "              loss = 'sparse_categorical_crossentropy',\n",
    "              metrics=['accuracy'])"
   ]
  },
  {
   "cell_type": "code",
   "execution_count": 36,
   "metadata": {
    "scrolled": true
   },
   "outputs": [
    {
     "name": "stdout",
     "output_type": "stream",
     "text": [
      "Found 144 images belonging to 2 classes.\n",
      "Found 52 images belonging to 2 classes.\n",
      "Epoch 1/40\n",
      "10/10 [==============================] - 1s 109ms/step - loss: 1.5730 - accuracy: 0.3936 - val_loss: 0.6931 - val_accuracy: 0.4800\n",
      "Epoch 2/40\n",
      "10/10 [==============================] - 1s 86ms/step - loss: 0.6931 - accuracy: 0.4900 - val_loss: 0.6931 - val_accuracy: 0.4800\n",
      "Epoch 3/40\n",
      "10/10 [==============================] - 1s 91ms/step - loss: 0.6931 - accuracy: 0.5400 - val_loss: 0.6931 - val_accuracy: 0.4800\n",
      "Epoch 4/40\n",
      "10/10 [==============================] - 1s 88ms/step - loss: 0.6931 - accuracy: 0.5213 - val_loss: 0.6931 - val_accuracy: 0.5000\n",
      "Epoch 5/40\n",
      "10/10 [==============================] - 1s 109ms/step - loss: 0.6931 - accuracy: 0.4894 - val_loss: 0.6931 - val_accuracy: 0.5000\n",
      "Epoch 6/40\n",
      "10/10 [==============================] - 1s 110ms/step - loss: 0.6931 - accuracy: 0.4900 - val_loss: 0.6931 - val_accuracy: 0.5000\n",
      "Epoch 7/40\n",
      "10/10 [==============================] - 1s 104ms/step - loss: 0.6931 - accuracy: 0.5106 - val_loss: 0.6931 - val_accuracy: 0.5200\n",
      "Epoch 8/40\n",
      "10/10 [==============================] - 1s 95ms/step - loss: 0.6931 - accuracy: 0.5426 - val_loss: 0.6931 - val_accuracy: 0.5000\n",
      "Epoch 9/40\n",
      "10/10 [==============================] - 1s 106ms/step - loss: 0.6931 - accuracy: 0.4700 - val_loss: 0.6931 - val_accuracy: 0.4800\n",
      "Epoch 10/40\n",
      "10/10 [==============================] - 1s 90ms/step - loss: 0.6931 - accuracy: 0.5319 - val_loss: 0.6931 - val_accuracy: 0.5000\n",
      "Epoch 11/40\n",
      "10/10 [==============================] - 1s 86ms/step - loss: 0.6931 - accuracy: 0.5200 - val_loss: 0.6931 - val_accuracy: 0.5200\n",
      "Epoch 12/40\n",
      "10/10 [==============================] - 1s 89ms/step - loss: 0.6931 - accuracy: 0.4600 - val_loss: 0.6931 - val_accuracy: 0.5000\n",
      "Epoch 13/40\n",
      "10/10 [==============================] - 1s 87ms/step - loss: 0.6931 - accuracy: 0.5106 - val_loss: 0.6931 - val_accuracy: 0.5000\n",
      "Epoch 14/40\n",
      "10/10 [==============================] - 1s 90ms/step - loss: 0.6931 - accuracy: 0.5213 - val_loss: 0.6931 - val_accuracy: 0.4800\n",
      "Epoch 15/40\n",
      "10/10 [==============================] - 1s 88ms/step - loss: 0.6931 - accuracy: 0.5319 - val_loss: 0.6931 - val_accuracy: 0.5000\n",
      "Epoch 16/40\n",
      "10/10 [==============================] - 1s 93ms/step - loss: 0.6931 - accuracy: 0.5000 - val_loss: 0.6931 - val_accuracy: 0.4800\n",
      "Epoch 17/40\n",
      "10/10 [==============================] - 1s 90ms/step - loss: 0.6931 - accuracy: 0.5000 - val_loss: 0.6931 - val_accuracy: 0.4800\n",
      "Epoch 18/40\n",
      "10/10 [==============================] - 1s 92ms/step - loss: 0.6931 - accuracy: 0.5000 - val_loss: 0.6931 - val_accuracy: 0.4800\n",
      "Epoch 19/40\n",
      "10/10 [==============================] - 1s 94ms/step - loss: 0.6931 - accuracy: 0.5213 - val_loss: 0.6931 - val_accuracy: 0.5000\n",
      "Epoch 20/40\n",
      "10/10 [==============================] - 1s 98ms/step - loss: 0.6931 - accuracy: 0.4800 - val_loss: 0.6931 - val_accuracy: 0.5000\n",
      "Epoch 21/40\n",
      "10/10 [==============================] - 1s 90ms/step - loss: 0.6931 - accuracy: 0.5319 - val_loss: 0.6931 - val_accuracy: 0.5000\n",
      "Epoch 22/40\n",
      "10/10 [==============================] - 1s 92ms/step - loss: 0.6931 - accuracy: 0.4900 - val_loss: 0.6931 - val_accuracy: 0.5000\n",
      "Epoch 23/40\n",
      "10/10 [==============================] - 1s 94ms/step - loss: 0.6931 - accuracy: 0.5000 - val_loss: 0.6931 - val_accuracy: 0.5000\n",
      "Epoch 24/40\n",
      "10/10 [==============================] - 1s 98ms/step - loss: 0.6931 - accuracy: 0.5600 - val_loss: 0.6931 - val_accuracy: 0.5200\n",
      "Epoch 25/40\n",
      "10/10 [==============================] - 1s 111ms/step - loss: 0.6931 - accuracy: 0.5000 - val_loss: 0.6931 - val_accuracy: 0.4800\n",
      "Epoch 26/40\n",
      "10/10 [==============================] - 1s 86ms/step - loss: 0.6931 - accuracy: 0.4681 - val_loss: 0.6931 - val_accuracy: 0.5200\n",
      "Epoch 27/40\n",
      "10/10 [==============================] - 1s 91ms/step - loss: 0.6931 - accuracy: 0.5213 - val_loss: 0.6931 - val_accuracy: 0.5200\n",
      "Epoch 28/40\n",
      "10/10 [==============================] - 1s 97ms/step - loss: 0.6931 - accuracy: 0.5532 - val_loss: 0.6931 - val_accuracy: 0.4800\n",
      "Epoch 29/40\n",
      "10/10 [==============================] - 1s 96ms/step - loss: 0.6931 - accuracy: 0.5000 - val_loss: 0.6931 - val_accuracy: 0.5000\n",
      "Epoch 30/40\n",
      "10/10 [==============================] - 1s 98ms/step - loss: 0.6931 - accuracy: 0.5000 - val_loss: 0.6931 - val_accuracy: 0.5000\n",
      "Epoch 31/40\n",
      "10/10 [==============================] - 1s 95ms/step - loss: 0.6931 - accuracy: 0.4300 - val_loss: 0.6931 - val_accuracy: 0.5000\n",
      "Epoch 32/40\n",
      "10/10 [==============================] - 1s 111ms/step - loss: 0.6931 - accuracy: 0.4800 - val_loss: 0.6931 - val_accuracy: 0.4800\n",
      "Epoch 33/40\n",
      "10/10 [==============================] - 1s 103ms/step - loss: 0.6931 - accuracy: 0.4787 - val_loss: 0.6931 - val_accuracy: 0.5200\n",
      "Epoch 34/40\n",
      "10/10 [==============================] - 1s 106ms/step - loss: 0.6931 - accuracy: 0.5319 - val_loss: 0.6931 - val_accuracy: 0.5200\n",
      "Epoch 35/40\n",
      "10/10 [==============================] - 1s 112ms/step - loss: 0.6931 - accuracy: 0.4681 - val_loss: 0.6931 - val_accuracy: 0.5000\n",
      "Epoch 36/40\n",
      "10/10 [==============================] - 1s 91ms/step - loss: 0.6931 - accuracy: 0.5000 - val_loss: 0.6931 - val_accuracy: 0.5200\n",
      "Epoch 37/40\n",
      "10/10 [==============================] - 1s 96ms/step - loss: 0.6931 - accuracy: 0.4574 - val_loss: 0.6931 - val_accuracy: 0.5200\n",
      "Epoch 38/40\n",
      "10/10 [==============================] - 1s 97ms/step - loss: 0.6931 - accuracy: 0.5213 - val_loss: 0.6931 - val_accuracy: 0.4800\n",
      "Epoch 39/40\n",
      "10/10 [==============================] - 1s 99ms/step - loss: 0.6931 - accuracy: 0.4800 - val_loss: 0.6931 - val_accuracy: 0.4800\n",
      "Epoch 40/40\n",
      "10/10 [==============================] - 1s 103ms/step - loss: 0.6931 - accuracy: 0.4468 - val_loss: 0.6931 - val_accuracy: 0.5000\n"
     ]
    },
    {
     "data": {
      "text/plain": [
       "<tensorflow.python.keras.callbacks.History at 0x7f60787d3a90>"
      ]
     },
     "execution_count": 36,
     "metadata": {},
     "output_type": "execute_result"
    }
   ],
   "source": [
    "# this is the augmentation configuration we will use for training\n",
    "train_datagen = ImageDataGenerator(\n",
    "    rescale=1. / 255,\n",
    "    shear_range=0.2,\n",
    "    zoom_range=0.2,\n",
    "    horizontal_flip=True)\n",
    "\n",
    "# this is the augmentation configuration we will use for testing:\n",
    "# only rescaling\n",
    "test_datagen = ImageDataGenerator(rescale=1. / 255)\n",
    "\n",
    "train_generator = train_datagen.flow_from_directory(\n",
    "    train_data_dir,\n",
    "    target_size=(img_width, img_height),\n",
    "    batch_size=batch_size,\n",
    "    class_mode='binary')\n",
    "\n",
    "validation_generator = test_datagen.flow_from_directory(\n",
    "    validation_data_dir,\n",
    "    target_size=(img_width, img_height),\n",
    "    batch_size=batch_size,\n",
    "    class_mode='binary')\n",
    "\n",
    "model.fit_generator(\n",
    "    train_generator,\n",
    "    steps_per_epoch=n_training_sample // batch_size,\n",
    "    epochs=epochs,\n",
    "    validation_data=validation_generator,\n",
    "    validation_steps=n_validation_sample // batch_size)"
   ]
  },
  {
   "cell_type": "code",
   "execution_count": 37,
   "metadata": {},
   "outputs": [
    {
     "name": "stdout",
     "output_type": "stream",
     "text": [
      "[[1. 1.]]\n"
     ]
    }
   ],
   "source": [
    "#testing the model\n",
    "pred= image.load_img('tumor_detect/test/Y1.jpg', target_size=(150,150))\n",
    "pred=image.img_to_array(pred)\n",
    "pred= np.expand_dims(pred, axis=0)\n",
    "result= model.predict(pred)\n",
    "print(result)"
   ]
  },
  {
   "cell_type": "code",
   "execution_count": 38,
   "metadata": {},
   "outputs": [
    {
     "name": "stdout",
     "output_type": "stream",
     "text": [
      "Its a Tumor\n"
     ]
    }
   ],
   "source": [
    "if result[0][0]==1:\n",
    "    answer='Its a Tumor'\n",
    "else:\n",
    "    answer='There is no tumor'\n",
    "print(answer)"
   ]
  },
  {
   "cell_type": "code",
   "execution_count": null,
   "metadata": {},
   "outputs": [],
   "source": []
  }
 ],
 "metadata": {
  "kernelspec": {
   "display_name": "Python 3",
   "language": "python",
   "name": "python3"
  },
  "language_info": {
   "codemirror_mode": {
    "name": "ipython",
    "version": 3
   },
   "file_extension": ".py",
   "mimetype": "text/x-python",
   "name": "python",
   "nbconvert_exporter": "python",
   "pygments_lexer": "ipython3",
   "version": "3.8.2"
  }
 },
 "nbformat": 4,
 "nbformat_minor": 4
}
