{
 "cells": [
  {
   "cell_type": "code",
   "execution_count": 1,
   "metadata": {},
   "outputs": [
    {
     "name": "stderr",
     "output_type": "stream",
     "text": [
      "Using TensorFlow backend.\n"
     ]
    }
   ],
   "source": [
    "#importing all te req lib\n",
    "import tensorflow as tf\n",
    "from keras.preprocessing.image import ImageDataGenerator\n",
    "from keras.models import Sequential\n",
    "from keras.layers import Conv2D, MaxPooling2D\n",
    "from keras.layers import Activation, Dropout, Flatten, Dense\n",
    "from keras import backend as K\n",
    "from keras.preprocessing import image\n",
    "import numpy as np"
   ]
  },
  {
   "cell_type": "code",
   "execution_count": 2,
   "metadata": {},
   "outputs": [],
   "source": [
    "# dimensions of our images.\n",
    "img_width, img_height = 28,28\n",
    "\n",
    "#defining the data directories\n",
    "train_data_dir= 'tumor_detect/train'\n",
    "validation_data_dir= 'tumor_detect/validation'\n",
    "n_training_sample= 100\n",
    "n_validation_sample= 50\n",
    "epochs=20\n",
    "batch_size=10"
   ]
  },
  {
   "cell_type": "code",
   "execution_count": 3,
   "metadata": {},
   "outputs": [],
   "source": [
    "if K.image_data_format() == 'channels_first':\n",
    "    input_shape = (3, img_width, img_height)\n",
    "else:\n",
    "    input_shape = (img_width, img_height, 3)"
   ]
  },
  {
   "cell_type": "code",
   "execution_count": 4,
   "metadata": {},
   "outputs": [],
   "source": [
    "#defining the model\n",
    "model = tf.keras.models.Sequential([\n",
    "  tf.keras.layers.Conv2D(64, (3,3), activation='relu', input_shape=(28, 28, 3)),\n",
    "  tf.keras.layers.MaxPooling2D(2, 2),\n",
    "  tf.keras.layers.Flatten(), \n",
    "  tf.keras.layers.Dense(128, activation=tf.nn.relu), \n",
    "  tf.keras.layers.Dense(64, activation=tf.nn.relu),\n",
    "  tf.keras.layers.Dense(2, activation=tf.nn.sigmoid)])"
   ]
  },
  {
   "cell_type": "code",
   "execution_count": 5,
   "metadata": {},
   "outputs": [],
   "source": [
    "#defining the optimizer and metrics\n",
    "model.compile(optimizer = tf.optimizers.Adam(),\n",
    "              loss = 'sparse_categorical_crossentropy',\n",
    "              metrics=['accuracy'])"
   ]
  },
  {
   "cell_type": "code",
   "execution_count": 6,
   "metadata": {},
   "outputs": [
    {
     "name": "stdout",
     "output_type": "stream",
     "text": [
      "Found 144 images belonging to 2 classes.\n",
      "Found 52 images belonging to 2 classes.\n",
      "WARNING:tensorflow:From <ipython-input-6-b6a26b63a4b7>:24: Model.fit_generator (from tensorflow.python.keras.engine.training) is deprecated and will be removed in a future version.\n",
      "Instructions for updating:\n",
      "Please use Model.fit, which supports generators.\n",
      "Epoch 1/20\n",
      "10/10 [==============================] - 0s 45ms/step - loss: 0.6796 - accuracy: 0.6064 - val_loss: 0.5796 - val_accuracy: 0.7800\n",
      "Epoch 2/20\n",
      "10/10 [==============================] - 0s 43ms/step - loss: 0.6139 - accuracy: 0.6702 - val_loss: 0.5283 - val_accuracy: 0.7200\n",
      "Epoch 3/20\n",
      "10/10 [==============================] - 0s 45ms/step - loss: 0.6492 - accuracy: 0.6064 - val_loss: 0.5878 - val_accuracy: 0.6800\n",
      "Epoch 4/20\n",
      "10/10 [==============================] - 0s 33ms/step - loss: 0.5890 - accuracy: 0.6900 - val_loss: 0.5122 - val_accuracy: 0.7600\n",
      "Epoch 5/20\n",
      "10/10 [==============================] - 0s 32ms/step - loss: 0.5423 - accuracy: 0.7553 - val_loss: 0.4794 - val_accuracy: 0.7400\n",
      "Epoch 6/20\n",
      "10/10 [==============================] - 0s 41ms/step - loss: 0.5453 - accuracy: 0.7234 - val_loss: 0.5388 - val_accuracy: 0.7400\n",
      "Epoch 7/20\n",
      "10/10 [==============================] - 0s 42ms/step - loss: 0.5689 - accuracy: 0.7100 - val_loss: 0.4863 - val_accuracy: 0.7800\n",
      "Epoch 8/20\n",
      "10/10 [==============================] - 0s 34ms/step - loss: 0.5081 - accuracy: 0.7100 - val_loss: 0.4450 - val_accuracy: 0.7800\n",
      "Epoch 9/20\n",
      "10/10 [==============================] - 0s 35ms/step - loss: 0.4498 - accuracy: 0.8100 - val_loss: 0.4803 - val_accuracy: 0.7800\n",
      "Epoch 10/20\n",
      "10/10 [==============================] - 0s 38ms/step - loss: 0.4532 - accuracy: 0.7700 - val_loss: 0.5081 - val_accuracy: 0.8000\n",
      "Epoch 11/20\n",
      "10/10 [==============================] - 0s 42ms/step - loss: 0.4723 - accuracy: 0.7979 - val_loss: 0.4825 - val_accuracy: 0.7400\n",
      "Epoch 12/20\n",
      "10/10 [==============================] - 0s 37ms/step - loss: 0.4985 - accuracy: 0.7300 - val_loss: 0.5312 - val_accuracy: 0.7400\n",
      "Epoch 13/20\n",
      "10/10 [==============================] - 0s 33ms/step - loss: 0.3926 - accuracy: 0.8600 - val_loss: 0.5220 - val_accuracy: 0.7800\n",
      "Epoch 14/20\n",
      "10/10 [==============================] - 0s 39ms/step - loss: 0.4143 - accuracy: 0.8085 - val_loss: 0.9811 - val_accuracy: 0.7200\n",
      "Epoch 15/20\n",
      "10/10 [==============================] - 0s 37ms/step - loss: 0.4255 - accuracy: 0.7900 - val_loss: 0.5103 - val_accuracy: 0.7200\n",
      "Epoch 16/20\n",
      "10/10 [==============================] - 0s 33ms/step - loss: 0.2998 - accuracy: 0.8617 - val_loss: 0.5957 - val_accuracy: 0.8000\n",
      "Epoch 17/20\n",
      "10/10 [==============================] - 0s 39ms/step - loss: 0.3141 - accuracy: 0.8723 - val_loss: 0.6502 - val_accuracy: 0.7400\n",
      "Epoch 18/20\n",
      "10/10 [==============================] - 0s 37ms/step - loss: 0.2779 - accuracy: 0.8723 - val_loss: 0.7020 - val_accuracy: 0.7800\n",
      "Epoch 19/20\n",
      "10/10 [==============================] - 0s 38ms/step - loss: 0.1633 - accuracy: 0.9362 - val_loss: 0.7473 - val_accuracy: 0.8000\n",
      "Epoch 20/20\n",
      "10/10 [==============================] - 0s 37ms/step - loss: 0.2604 - accuracy: 0.9043 - val_loss: 0.9956 - val_accuracy: 0.7400\n"
     ]
    },
    {
     "data": {
      "text/plain": [
       "<tensorflow.python.keras.callbacks.History at 0x7f595c152d90>"
      ]
     },
     "execution_count": 6,
     "metadata": {},
     "output_type": "execute_result"
    }
   ],
   "source": [
    "# this is the augmentation configuration we will use for training\n",
    "train_datagen = ImageDataGenerator(\n",
    "    rescale=1. / 255,\n",
    "    shear_range=0.2,\n",
    "    zoom_range=0.2,\n",
    "    horizontal_flip=True)\n",
    "\n",
    "# this is the augmentation configuration we will use for testing:\n",
    "# only rescaling\n",
    "test_datagen = ImageDataGenerator(rescale=1. / 255)\n",
    "\n",
    "train_generator = train_datagen.flow_from_directory(\n",
    "    train_data_dir,\n",
    "    target_size=(img_width, img_height),\n",
    "    batch_size=batch_size,\n",
    "    class_mode='binary')\n",
    "\n",
    "validation_generator = test_datagen.flow_from_directory(\n",
    "    validation_data_dir,\n",
    "    target_size=(img_width, img_height),\n",
    "    batch_size=batch_size,\n",
    "    class_mode='binary')\n",
    "\n",
    "model.fit_generator(\n",
    "    train_generator,\n",
    "    steps_per_epoch=n_training_sample // batch_size,\n",
    "    epochs=epochs,\n",
    "    validation_data=validation_generator,\n",
    "    validation_steps=n_validation_sample // batch_size)"
   ]
  },
  {
   "cell_type": "code",
   "execution_count": 30,
   "metadata": {},
   "outputs": [
    {
     "name": "stdout",
     "output_type": "stream",
     "text": [
      "[[0. 1.]]\n"
     ]
    }
   ],
   "source": [
    "#testing the model\n",
    "pred= image.load_img('tumor_detect/test/Y3.jpg', target_size=(28,28))\n",
    "pred=image.img_to_array(pred)\n",
    "pred= np.expand_dims(pred, axis=0)\n",
    "result= model.predict(pred)\n",
    "print(result)"
   ]
  },
  {
   "cell_type": "code",
   "execution_count": 31,
   "metadata": {},
   "outputs": [
    {
     "name": "stdout",
     "output_type": "stream",
     "text": [
      "Its a Tumor\n"
     ]
    }
   ],
   "source": [
    "if result[0][1]==1:\n",
    "    answer='Its a Tumor'\n",
    "else:\n",
    "    answer='There is no tumor'\n",
    "print(answer)"
   ]
  },
  {
   "cell_type": "code",
   "execution_count": null,
   "metadata": {},
   "outputs": [],
   "source": []
  }
 ],
 "metadata": {
  "kernelspec": {
   "display_name": "Python 3",
   "language": "python",
   "name": "python3"
  },
  "language_info": {
   "codemirror_mode": {
    "name": "ipython",
    "version": 3
   },
   "file_extension": ".py",
   "mimetype": "text/x-python",
   "name": "python",
   "nbconvert_exporter": "python",
   "pygments_lexer": "ipython3",
   "version": "3.8.2"
  }
 },
 "nbformat": 4,
 "nbformat_minor": 4
}
